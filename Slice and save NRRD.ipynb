{
 "cells": [
  {
   "cell_type": "code",
   "execution_count": 30,
   "id": "c22cbaae",
   "metadata": {},
   "outputs": [
    {
     "name": "stdout",
     "output_type": "stream",
     "text": [
      "/home/erattakulangara/hpchome/DeepLearningAlgo/2022-Protocol-Adaptive_multiArtSegmentation\n"
     ]
    }
   ],
   "source": [
    "import os,sys\n",
    "import numpy as np\n",
    "print(os.getcwd())\n",
    "import skimage.io as io\n",
    "import glob\n",
    "import nrrd\n",
    "import matplotlib.pyplot as plt\n",
    "\n",
    "Gpath = './data/chest_x_ray/raw/chestCT-sample/'\n",
    "Gsavepath = './data/chest_x_ray/raw/chestCT-sample/save/'\n",
    "sys.path.append(Gpath)"
   ]
  },
  {
   "cell_type": "markdown",
   "id": "c92086b6",
   "metadata": {},
   "source": [
    "### setup paths"
   ]
  },
  {
   "cell_type": "code",
   "execution_count": 42,
   "id": "f73e4b0b",
   "metadata": {},
   "outputs": [],
   "source": [
    "Ipath=Gpath + 'S11.nrrd'\n",
    "Lpath=Gpath + 'LS11.nrrd'\n",
    "foldername = 1\n",
    "Idata, Iheader = nrrd.read(Ipath)\n",
    "Ldata, Lheader = nrrd.read(Lpath)"
   ]
  },
  {
   "cell_type": "markdown",
   "id": "5329f74b",
   "metadata": {},
   "source": [
    "### Slicing and saving"
   ]
  },
  {
   "cell_type": "code",
   "execution_count": 48,
   "id": "f79cf66c",
   "metadata": {},
   "outputs": [],
   "source": [
    "import PIL\n",
    "from PIL import Image\n",
    "start=100\n",
    "end = 110\n",
    "Ifolderpath = os.path.join(Gsavepath,str(foldername),'image')\n",
    "Lfolderpath = os.path.join(Gsavepath,str(foldername),'label')\n",
    "for i in range(start,end,1):\n",
    "    Isavepath = os.path.join(Ifolderpath,str(i)+'.png')\n",
    "    Lsavepath = os.path.join(Lfolderpath,str(i)+'.png')\n",
    "    plt.imsave(Isavepath,Idata[:,:,i],cmap='gray')\n",
    "    plt.imsave(Lsavepath,Ldata[:,:,i],cmap='gray')"
   ]
  }
 ],
 "metadata": {
  "kernelspec": {
   "display_name": "chestXSeg",
   "language": "python",
   "name": "chestxseg"
  },
  "language_info": {
   "codemirror_mode": {
    "name": "ipython",
    "version": 3
   },
   "file_extension": ".py",
   "mimetype": "text/x-python",
   "name": "python",
   "nbconvert_exporter": "python",
   "pygments_lexer": "ipython3",
   "version": "3.8.10"
  }
 },
 "nbformat": 4,
 "nbformat_minor": 5
}
